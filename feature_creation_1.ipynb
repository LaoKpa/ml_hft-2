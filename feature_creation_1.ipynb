{
 "cells": [
  {
   "cell_type": "code",
   "execution_count": 5,
   "metadata": {},
   "outputs": [],
   "source": [
    "from math import pi\n",
    "import pandas as pd\n",
    "from bokeh.plotting import figure, show, output_notebook\n",
    "from datetime import date\n",
    "from datetime import datetime\n",
    "import simdkalman\n",
    "import talib\n",
    "import numpy as np"
   ]
  },
  {
   "cell_type": "code",
   "execution_count": 6,
   "metadata": {},
   "outputs": [],
   "source": [
    "df = pd.read_csv('rts_2209_0412.txt') #это тики с финама\n"
   ]
  },
  {
   "cell_type": "code",
   "execution_count": 7,
   "metadata": {},
   "outputs": [
    {
     "data": {
      "text/plain": [
       "8332439"
      ]
     },
     "execution_count": 7,
     "metadata": {},
     "output_type": "execute_result"
    }
   ],
   "source": [
    "len(df)"
   ]
  },
  {
   "cell_type": "code",
   "execution_count": 8,
   "metadata": {},
   "outputs": [
    {
     "data": {
      "text/html": [
       "<div>\n",
       "<style scoped>\n",
       "    .dataframe tbody tr th:only-of-type {\n",
       "        vertical-align: middle;\n",
       "    }\n",
       "\n",
       "    .dataframe tbody tr th {\n",
       "        vertical-align: top;\n",
       "    }\n",
       "\n",
       "    .dataframe thead th {\n",
       "        text-align: right;\n",
       "    }\n",
       "</style>\n",
       "<table border=\"1\" class=\"dataframe\">\n",
       "  <thead>\n",
       "    <tr style=\"text-align: right;\">\n",
       "      <th></th>\n",
       "      <th>&lt;DATE&gt;</th>\n",
       "      <th>&lt;TIME&gt;</th>\n",
       "      <th>&lt;LAST&gt;</th>\n",
       "      <th>&lt;VOL&gt;</th>\n",
       "      <th>&lt;ID&gt;</th>\n",
       "      <th>&lt;OPER&gt;</th>\n",
       "    </tr>\n",
       "  </thead>\n",
       "  <tbody>\n",
       "    <tr>\n",
       "      <th>0</th>\n",
       "      <td>20181022</td>\n",
       "      <td>100000</td>\n",
       "      <td>112650.0</td>\n",
       "      <td>1</td>\n",
       "      <td>2147231168</td>\n",
       "      <td>B</td>\n",
       "    </tr>\n",
       "    <tr>\n",
       "      <th>1</th>\n",
       "      <td>20181022</td>\n",
       "      <td>100000</td>\n",
       "      <td>112680.0</td>\n",
       "      <td>4</td>\n",
       "      <td>2147231169</td>\n",
       "      <td>B</td>\n",
       "    </tr>\n",
       "    <tr>\n",
       "      <th>2</th>\n",
       "      <td>20181022</td>\n",
       "      <td>100000</td>\n",
       "      <td>112680.0</td>\n",
       "      <td>1</td>\n",
       "      <td>2147231170</td>\n",
       "      <td>B</td>\n",
       "    </tr>\n",
       "    <tr>\n",
       "      <th>3</th>\n",
       "      <td>20181022</td>\n",
       "      <td>100000</td>\n",
       "      <td>112700.0</td>\n",
       "      <td>1</td>\n",
       "      <td>2147231174</td>\n",
       "      <td>B</td>\n",
       "    </tr>\n",
       "    <tr>\n",
       "      <th>4</th>\n",
       "      <td>20181022</td>\n",
       "      <td>100000</td>\n",
       "      <td>112800.0</td>\n",
       "      <td>1</td>\n",
       "      <td>2147231177</td>\n",
       "      <td>B</td>\n",
       "    </tr>\n",
       "  </tbody>\n",
       "</table>\n",
       "</div>"
      ],
      "text/plain": [
       "     <DATE>  <TIME>    <LAST>  <VOL>        <ID> <OPER>\n",
       "0  20181022  100000  112650.0      1  2147231168      B\n",
       "1  20181022  100000  112680.0      4  2147231169      B\n",
       "2  20181022  100000  112680.0      1  2147231170      B\n",
       "3  20181022  100000  112700.0      1  2147231174      B\n",
       "4  20181022  100000  112800.0      1  2147231177      B"
      ]
     },
     "execution_count": 8,
     "metadata": {},
     "output_type": "execute_result"
    }
   ],
   "source": [
    "df.head()"
   ]
  },
  {
   "cell_type": "code",
   "execution_count": 9,
   "metadata": {},
   "outputs": [],
   "source": [
    "import sys\n",
    "import matplotlib.pyplot as plt\n",
    "%matplotlib inline"
   ]
  },
  {
   "cell_type": "code",
   "execution_count": 10,
   "metadata": {},
   "outputs": [
    {
     "data": {
      "text/plain": [
       "[<matplotlib.lines.Line2D at 0x214027156d8>]"
      ]
     },
     "execution_count": 10,
     "metadata": {},
     "output_type": "execute_result"
    },
    {
     "data": {
      "image/png": "[encoded data removed]",
      "text/plain": [
       "<Figure size 432x288 with 1 Axes>"
      ]
     },
     "metadata": {
      "needs_background": "light"
     },
     "output_type": "display_data"
    }
   ],
   "source": [
    "plt.plot(df['<LAST>'])"
   ]
  },
  {
   "cell_type": "code",
   "execution_count": 11,
   "metadata": {},
   "outputs": [
    {
     "name": "stdout",
     "output_type": "stream",
     "text": [
      "8332439\n"
     ]
    }
   ],
   "source": [
    "#сожмем тики, а также выгрзим их в list - так удобней во многих случаях.\n",
    "volume_l = list(df['<VOL>'])\n",
    "sig_l = list(df['<OPER>'])\n",
    "ri_l = list(df['<LAST>'])\n",
    "vol_sum_l = []\n",
    "vol_sum_sig_l = []\n",
    "#попробуем удалить все значения, когда не меняется в стакане ри\n",
    "\n",
    "tt = 10 #показатель тик так - если поставить 20, то сожмет все тики между которыми 20 рублей и тд\n",
    "\n",
    "vol_sum = 0\n",
    "vol_sum_sig = 0\n",
    "ch_lst = []\n",
    "vpin_l = []\n",
    "prev_x = 0\n",
    "oper_num =0\n",
    "oper_l = []\n",
    "prev_price = 0\n",
    "for i,x in enumerate(ri_l):\n",
    "    current_vol = volume_l[i]\n",
    "    vol_sum = vol_sum+current_vol\n",
    "    oper_num+=1\n",
    "    if sig_l[i]=='S':\n",
    "        vol_sum_sig-=current_vol\n",
    "    else:\n",
    "        vol_sum_sig+=current_vol\n",
    "    if abs(x-prev_x)>=tt: \n",
    "        ch_lst.append(1)\n",
    "        vol_sum_l.append(vol_sum)\n",
    "        vol_sum_sig_l.append(vol_sum_sig)\n",
    "        vpin_l.append(vol_sum_sig/vol_sum)\n",
    "        oper_l.append(oper_num)\n",
    "        vol_sum = 0\n",
    "        vol_sum_sig = 0\n",
    "        oper_num=0\n",
    "        prev_x = x\n",
    "    else:\n",
    "        ch_lst.append(0)\n",
    "        vol_sum_l.append(0)\n",
    "        vol_sum_sig_l.append(0)\n",
    "        vpin_l.append(0)\n",
    "        oper_l.append(0)\n",
    "    \n",
    "df['change_ri'] = ch_lst\n",
    "df['vol_sum'] = vol_sum_l\n",
    "df['vol_sum_sig'] = vol_sum_sig_l\n",
    "df['vpin']=vpin_l\n",
    "df['oper_num'] = oper_l\n",
    "\n",
    "print(len(df))"
   ]
  },
  {
   "cell_type": "code",
   "execution_count": 12,
   "metadata": {},
   "outputs": [],
   "source": [
    "df = df[df['change_ri']>0] #оставим только строчки, где произошло изменение цены. промежуточные тики выкинем"
   ]
  },
  {
   "cell_type": "code",
   "execution_count": 13,
   "metadata": {},
   "outputs": [],
   "source": [
    "#df = df[df['oper_num']>1] #на тот случай если мы не хотим учитывать левые выбросы по 1 операции на тик"
   ]
  },
  {
   "cell_type": "code",
   "execution_count": 14,
   "metadata": {},
   "outputs": [
    {
     "data": {
      "text/plain": [
       "[<matplotlib.lines.Line2D at 0x21478e845f8>]"
      ]
     },
     "execution_count": 14,
     "metadata": {},
     "output_type": "execute_result"
    },
    {
     "data": {
      "image/png": "[encoded data removed]",
      "text/plain": [
       "<Figure size 432x288 with 1 Axes>"
      ]
     },
     "metadata": {
      "needs_background": "light"
     },
     "output_type": "display_data"
    }
   ],
   "source": [
    "plt.plot(df['<LAST>'])"
   ]
  },
  {
   "cell_type": "code",
   "execution_count": 15,
   "metadata": {},
   "outputs": [
    {
     "data": {
      "text/plain": [
       "1784446"
      ]
     },
     "execution_count": 15,
     "metadata": {},
     "output_type": "execute_result"
    }
   ],
   "source": [
    "len(df)"
   ]
  },
  {
   "cell_type": "code",
   "execution_count": 16,
   "metadata": {},
   "outputs": [
    {
     "data": {
      "text/plain": [
       "4.669482293103854"
      ]
     },
     "execution_count": 16,
     "metadata": {},
     "output_type": "execute_result"
    }
   ],
   "source": [
    "8332439/1784446"
   ]
  },
  {
   "cell_type": "code",
   "execution_count": 298,
   "metadata": {},
   "outputs": [],
   "source": [
    "#размер данных соктаился в 4.7 раза. их можно еще значительно ужать если увеличить показатель тик така сверху"
   ]
  },
  {
   "cell_type": "code",
   "execution_count": 299,
   "metadata": {},
   "outputs": [
    {
     "data": {
      "text/html": [
       "<div>\n",
       "<style scoped>\n",
       "    .dataframe tbody tr th:only-of-type {\n",
       "        vertical-align: middle;\n",
       "    }\n",
       "\n",
       "    .dataframe tbody tr th {\n",
       "        vertical-align: top;\n",
       "    }\n",
       "\n",
       "    .dataframe thead th {\n",
       "        text-align: right;\n",
       "    }\n",
       "</style>\n",
       "<table border=\"1\" class=\"dataframe\">\n",
       "  <thead>\n",
       "    <tr style=\"text-align: right;\">\n",
       "      <th></th>\n",
       "      <th>&lt;DATE&gt;</th>\n",
       "      <th>&lt;TIME&gt;</th>\n",
       "      <th>&lt;LAST&gt;</th>\n",
       "      <th>&lt;VOL&gt;</th>\n",
       "      <th>&lt;ID&gt;</th>\n",
       "      <th>&lt;OPER&gt;</th>\n",
       "      <th>change_ri</th>\n",
       "      <th>vol_sum</th>\n",
       "      <th>vol_sum_sig</th>\n",
       "      <th>vpin</th>\n",
       "      <th>oper_num</th>\n",
       "    </tr>\n",
       "  </thead>\n",
       "  <tbody>\n",
       "    <tr>\n",
       "      <th>0</th>\n",
       "      <td>20181022</td>\n",
       "      <td>100000</td>\n",
       "      <td>112650.0</td>\n",
       "      <td>1</td>\n",
       "      <td>2147231168</td>\n",
       "      <td>B</td>\n",
       "      <td>1</td>\n",
       "      <td>1</td>\n",
       "      <td>1</td>\n",
       "      <td>1.0</td>\n",
       "      <td>1</td>\n",
       "    </tr>\n",
       "    <tr>\n",
       "      <th>1</th>\n",
       "      <td>20181022</td>\n",
       "      <td>100000</td>\n",
       "      <td>112680.0</td>\n",
       "      <td>4</td>\n",
       "      <td>2147231169</td>\n",
       "      <td>B</td>\n",
       "      <td>1</td>\n",
       "      <td>4</td>\n",
       "      <td>4</td>\n",
       "      <td>1.0</td>\n",
       "      <td>1</td>\n",
       "    </tr>\n",
       "    <tr>\n",
       "      <th>3</th>\n",
       "      <td>20181022</td>\n",
       "      <td>100000</td>\n",
       "      <td>112700.0</td>\n",
       "      <td>1</td>\n",
       "      <td>2147231174</td>\n",
       "      <td>B</td>\n",
       "      <td>1</td>\n",
       "      <td>2</td>\n",
       "      <td>2</td>\n",
       "      <td>1.0</td>\n",
       "      <td>2</td>\n",
       "    </tr>\n",
       "    <tr>\n",
       "      <th>4</th>\n",
       "      <td>20181022</td>\n",
       "      <td>100000</td>\n",
       "      <td>112800.0</td>\n",
       "      <td>1</td>\n",
       "      <td>2147231177</td>\n",
       "      <td>B</td>\n",
       "      <td>1</td>\n",
       "      <td>1</td>\n",
       "      <td>1</td>\n",
       "      <td>1.0</td>\n",
       "      <td>1</td>\n",
       "    </tr>\n",
       "    <tr>\n",
       "      <th>5</th>\n",
       "      <td>20181022</td>\n",
       "      <td>100000</td>\n",
       "      <td>112830.0</td>\n",
       "      <td>1</td>\n",
       "      <td>2147231178</td>\n",
       "      <td>B</td>\n",
       "      <td>1</td>\n",
       "      <td>1</td>\n",
       "      <td>1</td>\n",
       "      <td>1.0</td>\n",
       "      <td>1</td>\n",
       "    </tr>\n",
       "  </tbody>\n",
       "</table>\n",
       "</div>"
      ],
      "text/plain": [
       "     <DATE>  <TIME>    <LAST>  <VOL>        <ID> <OPER>  change_ri  vol_sum  \\\n",
       "0  20181022  100000  112650.0      1  2147231168      B          1        1   \n",
       "1  20181022  100000  112680.0      4  2147231169      B          1        4   \n",
       "3  20181022  100000  112700.0      1  2147231174      B          1        2   \n",
       "4  20181022  100000  112800.0      1  2147231177      B          1        1   \n",
       "5  20181022  100000  112830.0      1  2147231178      B          1        1   \n",
       "\n",
       "   vol_sum_sig  vpin  oper_num  \n",
       "0            1   1.0         1  \n",
       "1            4   1.0         1  \n",
       "3            2   1.0         2  \n",
       "4            1   1.0         1  \n",
       "5            1   1.0         1  "
      ]
     },
     "execution_count": 299,
     "metadata": {},
     "output_type": "execute_result"
    }
   ],
   "source": [
    "df.head()"
   ]
  },
  {
   "cell_type": "code",
   "execution_count": 17,
   "metadata": {},
   "outputs": [],
   "source": [
    "#Добавим впин за последние 10, 20, 100, 500 периодов\n",
    "#vpin в моем понимании как соотношение обьемов покупки/продажи\n",
    "#это отношение обьемов со знаком к обьмема то есть -1 (сплошные продажи) 1 (покупки) 0 (продажи покупки поровну)"
   ]
  },
  {
   "cell_type": "code",
   "execution_count": null,
   "metadata": {},
   "outputs": [],
   "source": []
  },
  {
   "cell_type": "code",
   "execution_count": 18,
   "metadata": {},
   "outputs": [],
   "source": [
    "step_l = [2,3,4,5,10,20,50,100,500,1000,5000]\n",
    "for x in step_l:\n",
    "    df['vpin_'+str(x)]=df.vol_sum_sig.rolling(x).sum()/df.vol_sum.rolling(x).sum()"
   ]
  },
  {
   "cell_type": "code",
   "execution_count": 19,
   "metadata": {},
   "outputs": [],
   "source": [
    "\n",
    "step_l = [5,10,20,50,100,500,1000]\n",
    "for x in step_l:\n",
    "    df['rsi_'+str(x)]=talib.RSI(df['<LAST>'],x)"
   ]
  },
  {
   "cell_type": "code",
   "execution_count": 20,
   "metadata": {},
   "outputs": [],
   "source": [
    "#Теперь кальманы и его отклонения от средней и его отклонения от средней"
   ]
  },
  {
   "cell_type": "code",
   "execution_count": 21,
   "metadata": {},
   "outputs": [],
   "source": [
    "kf = simdkalman.KalmanFilter(\n",
    "    state_transition = [[1]],\n",
    "    process_noise = [[.01]],\n",
    "    observation_model = [[1]],\n",
    "    observation_noise = [[1.8]])"
   ]
  },
  {
   "cell_type": "code",
   "execution_count": 22,
   "metadata": {},
   "outputs": [],
   "source": [
    "k_result = kf.compute(df['<LAST>'].values,filtered=True,n_test = 1) \n",
    "df['kalman']=k_result.filtered.observations.mean #значение фильтра кальмана"
   ]
  },
  {
   "cell_type": "code",
   "execution_count": 23,
   "metadata": {},
   "outputs": [],
   "source": [
    "\n",
    "kf = simdkalman.KalmanFilter(\n",
    "    state_transition = [[1]],\n",
    "    process_noise = [[.01]],\n",
    "    observation_model = [[1]],\n",
    "    observation_noise = [[6]])\n",
    "k_result_2 = kf.compute(df['<LAST>'].values,filtered=True,n_test = 1) \n",
    "df['kalman_slow']=k_result_2.filtered.observations.mean #значение фильтра кальмана\n",
    "\n"
   ]
  },
  {
   "cell_type": "code",
   "execution_count": 24,
   "metadata": {},
   "outputs": [],
   "source": [
    "#расстояние между двумя медленными быстрыми кальманами\n",
    "df['delta_kalman_slow_fast']=df['kalman']-df['kalman_slow']"
   ]
  },
  {
   "cell_type": "code",
   "execution_count": 25,
   "metadata": {},
   "outputs": [],
   "source": [
    "df['kalman_var'] = df['<LAST>']-df['kalman']  #разница между средней и ценой"
   ]
  },
  {
   "cell_type": "code",
   "execution_count": 26,
   "metadata": {},
   "outputs": [],
   "source": [
    "df['var_mean_50'] = df.kalman_var.rolling(50).mean() #среднее отклонение цены от кальмана \n",
    "df['var_mean_100']= df.kalman_var.rolling(100).mean()\n",
    "df['var_mean_300']= df.kalman_var.rolling(300).mean()"
   ]
  },
  {
   "cell_type": "code",
   "execution_count": 27,
   "metadata": {},
   "outputs": [],
   "source": [
    "df['kf_var_50']=df['kalman_var']/df['var_mean_50'] #Отношение текущего отклонения к среднему\n",
    "df['kf_var_100']=df['kalman_var']/df['var_mean_100']"
   ]
  },
  {
   "cell_type": "code",
   "execution_count": 28,
   "metadata": {},
   "outputs": [],
   "source": [
    "df['kalman_var_abs'] = abs(df['<LAST>']-df['kalman'])  #разница между средней и ценой.\n"
   ]
  },
  {
   "cell_type": "code",
   "execution_count": 29,
   "metadata": {},
   "outputs": [],
   "source": [
    "df['var_mean_50_abs'] = df.kalman_var_abs.rolling(50).mean() #среднее отклонение цены от кальмана \n",
    "df['var_mean_100_abs']= df.kalman_var_abs.rolling(100).mean()\n",
    "df['var_mean_300_abs']= df.kalman_var_abs.rolling(300).mean()"
   ]
  },
  {
   "cell_type": "code",
   "execution_count": 30,
   "metadata": {},
   "outputs": [],
   "source": [
    "df['kf_var_50_abs']=df['kalman_var']/df['var_mean_50_abs'] #Отношение текущего отклонения к среднему \n",
    "df['kf_var_100_abs']=df['kalman_var']/df['var_mean_100_abs']\n",
    "\n"
   ]
  },
  {
   "cell_type": "code",
   "execution_count": 31,
   "metadata": {},
   "outputs": [],
   "source": [
    "df['std_kalman_50']=df['kalman_var'].rolling(50).std()\n",
    "df['std_kalman_100']=df['kalman_var'].rolling(100).std()"
   ]
  },
  {
   "cell_type": "code",
   "execution_count": 32,
   "metadata": {},
   "outputs": [],
   "source": [
    "import talib #наклон индиктора линейная регрессия\n",
    "df['ang_lr_50']=talib.LINEARREG_ANGLE(df['<LAST>'].values,50) #индиктор линейная регрессия. показывает средний \n",
    "df['ang_lr_200']=talib.LINEARREG_ANGLE(df['<LAST>'].values,200)\n",
    "df['ang_lr_500']=talib.LINEARREG_ANGLE(df['<LAST>'].values,500)\n",
    "df['ang_lr_1000']=talib.LINEARREG_ANGLE(df['<LAST>'].values,1000)\n",
    "df['ang_lr_5000']=talib.LINEARREG_ANGLE(df['<LAST>'].values,5000)\n"
   ]
  },
  {
   "cell_type": "code",
   "execution_count": 33,
   "metadata": {},
   "outputs": [],
   "source": [
    "#Обьемы средние за разные период\n",
    "df['mean_vol_20']=df['vol_sum'].rolling(20).mean()\n",
    "df['mean_vol_100']=df['vol_sum'].rolling(100).mean()\n",
    "df['mean_vol_500']=df['vol_sum'].rolling(500).mean()\n",
    "df['mean_vol_1000']=df['vol_sum'].rolling(1000).mean()"
   ]
  },
  {
   "cell_type": "code",
   "execution_count": 34,
   "metadata": {},
   "outputs": [],
   "source": [
    "df['oper_num_10']=df['oper_num'].rolling(10).mean() #количество операций\n",
    "df['oper_num_20']=df['oper_num'].rolling(20).mean()\n",
    "df['oper_num_100']=df['oper_num'].rolling(100).mean()\n",
    "df['oper_num_500']=df['oper_num'].rolling(500).mean()\n"
   ]
  },
  {
   "cell_type": "code",
   "execution_count": 35,
   "metadata": {},
   "outputs": [],
   "source": [
    "for x in [2,3,5,10,50]: #изменение цены (дельта цены за разные периоды)\n",
    "    df['price_delta_'+str(x)]=df['<LAST>']-df['<LAST>'].shift(x)\n",
    "    df['price_std1_'+str(x)]=df['price_delta_'+str(x)].rolling(1000).std()\n",
    "    df['price_std_'+str(x)]=df['price_delta_'+str(x)].rolling(500).std()\n",
    "    df['price_std2_'+str(x)]=df['price_delta_'+str(x)].rolling(100).std()\n",
    "    df['price_std5_'+str(x)]=df['price_delta_'+str(x)].rolling(50).std()"
   ]
  },
  {
   "cell_type": "code",
   "execution_count": 36,
   "metadata": {},
   "outputs": [],
   "source": [
    "for x in [1,2,3,5,10,50]: #\"наклон\" кальман\n",
    "    df['kalman_delta_'+str(x)]=df['kalman']-df['kalman'].shift(x)"
   ]
  },
  {
   "cell_type": "code",
   "execution_count": 37,
   "metadata": {},
   "outputs": [],
   "source": [
    "#еще придумал одну фичу - берем 100 тиков цены и смотрим сколько это секунд - то есть чем больше сек, тем меньше интенсивность \n",
    "df['sec_100']=df['<TIME>']-df['<TIME>'].shift(100)\n",
    "df['sec_500']=df['<TIME>']-df['<TIME>'].shift(500)"
   ]
  },
  {
   "cell_type": "code",
   "execution_count": 38,
   "metadata": {},
   "outputs": [],
   "source": [
    "#Это очень востребованные фичи - расстрояние между ценой и минмаксом за периодом а также из расстояние вообще\n",
    "for x in [50,100,300,500,1000]:\n",
    "    df[f'min_{x}_dist']=df['<LAST>']-df['<LAST>'].rolling(x).min()\n",
    "    df[f'max_{x}_dist']=df['<LAST>'].rolling(x).max()-df['<LAST>']\n",
    "    df[f'min_max_{x}_dist']=df['<LAST>'].rolling(x).max()-df['<LAST>'].rolling(x).min()"
   ]
  },
  {
   "cell_type": "code",
   "execution_count": 39,
   "metadata": {},
   "outputs": [],
   "source": [
    "from scipy.stats import skew #ассиметрия распределения\n",
    "for x in [2,3,5,10,50]: #изменение цены (дельта цены за разные периоды)\n",
    "    df['price_skew_'+str(x)]=df['price_delta_'+str(x)].rolling(500).skew()\n",
    "    df['price_skew1_'+str(x)]=df['price_delta_'+str(x)].rolling(1000).skew()"
   ]
  },
  {
   "cell_type": "code",
   "execution_count": 40,
   "metadata": {},
   "outputs": [],
   "source": [
    "for x in [2,3,5,10,50]: #дельта ассиметрии\n",
    "    df['price_skew_dif_'+str(x)]=(df['price_skew_'+str(x)]-df['price_skew_'+str(x)].shift(1))*1000\n",
    "    df['price_skew1_dif_'+str(x)]=(df['price_skew1_'+str(x)]-df['price_skew1_'+str(x)].shift(1))*1000"
   ]
  },
  {
   "cell_type": "code",
   "execution_count": 41,
   "metadata": {},
   "outputs": [],
   "source": [
    "df.dropna(axis=0, how='any',inplace=True)"
   ]
  },
  {
   "cell_type": "code",
   "execution_count": 42,
   "metadata": {},
   "outputs": [
    {
     "name": "stdout",
     "output_type": "stream",
     "text": [
      "['<VOL>', '<ID>', '<OPER>', 'change_ri', 'vol_sum', 'vol_sum_sig']\n"
     ]
    }
   ],
   "source": [
    "columns_to_del = list(df.columns[3:9]) #грохнем первые колонки с ценой, временем и тд\n",
    "print([c for c in columns_to_del])\n",
    "for x in columns_to_del:\n",
    "    try:\n",
    "        del df[x]\n",
    "    except:\n",
    "        pass"
   ]
  },
  {
   "cell_type": "code",
   "execution_count": 43,
   "metadata": {},
   "outputs": [
    {
     "name": "stdout",
     "output_type": "stream",
     "text": [
      "<class 'pandas.core.frame.DataFrame'>\n",
      "Int64Index: 1779447 entries, 22650 to 8332438\n",
      "Columns: 121 entries, <DATE> to price_skew1_dif_50\n",
      "dtypes: float64(118), int64(3)\n",
      "memory usage: 1.6 GB\n"
     ]
    }
   ],
   "source": [
    "df.info()"
   ]
  },
  {
   "cell_type": "code",
   "execution_count": 44,
   "metadata": {},
   "outputs": [
    {
     "data": {
      "text/plain": [
       "[<matplotlib.lines.Line2D at 0x21478ef1198>]"
      ]
     },
     "execution_count": 44,
     "metadata": {},
     "output_type": "execute_result"
    },
    {
     "data": {
      "image/png": "[encoded data removed]",
      "text/plain": [
       "<Figure size 432x288 with 1 Axes>"
      ]
     },
     "metadata": {
      "needs_background": "light"
     },
     "output_type": "display_data"
    }
   ],
   "source": [
    "plt.plot(df['<LAST>'])"
   ]
  },
  {
   "cell_type": "code",
   "execution_count": 45,
   "metadata": {},
   "outputs": [],
   "source": [
    "#создадим три разных датафрейма для дневной, вечерней и поздно-вечерней сессии"
   ]
  },
  {
   "cell_type": "code",
   "execution_count": 46,
   "metadata": {},
   "outputs": [],
   "source": [
    "df_p1 =df[df['<TIME>']>110000]\n",
    "df_p1 =df_p1[df_p1['<TIME>']<160000]"
   ]
  },
  {
   "cell_type": "code",
   "execution_count": 47,
   "metadata": {},
   "outputs": [],
   "source": [
    "df_p2=df[df['<TIME>']>160000]\n",
    "df_p2=df_p2[df_p2['<TIME>']<183000]"
   ]
  },
  {
   "cell_type": "code",
   "execution_count": 48,
   "metadata": {},
   "outputs": [],
   "source": [
    "df_p3=df[df['<TIME>']>191500]\n",
    "df_p3=df_p3[df_p3['<TIME>']<233000]"
   ]
  },
  {
   "cell_type": "code",
   "execution_count": 49,
   "metadata": {},
   "outputs": [
    {
     "data": {
      "text/plain": [
       "(1779447, 677317, 423527, 323352)"
      ]
     },
     "execution_count": 49,
     "metadata": {},
     "output_type": "execute_result"
    }
   ],
   "source": [
    "len(df),len(df_p1),len(df_p2),len(df_p3)"
   ]
  },
  {
   "cell_type": "code",
   "execution_count": 50,
   "metadata": {},
   "outputs": [
    {
     "name": "stdout",
     "output_type": "stream",
     "text": [
      "data_frame_RI10_p_all.pcl\n"
     ]
    }
   ],
   "source": [
    "import pickle\n",
    "nm='RI10'\n",
    "pickle.dump(df,open('data_frame_'+nm+'_p_all.pcl','wb'))\n",
    "pickle.dump(df_p1,open('data_frame_'+nm+'_p1.pcl','wb'))\n",
    "pickle.dump(df_p2,open('data_frame_'+nm+'_p2.pcl','wb'))\n",
    "pickle.dump(df_p3,open('data_frame_'+nm+'_p3.pcl','wb'))\n",
    "print('data_frame_'+nm+'_p_all.pcl')"
   ]
  }
 ],
 "metadata": {
  "kernelspec": {
   "display_name": "Python 3",
   "language": "python",
   "name": "python3"
  },
  "language_info": {
   "codemirror_mode": {
    "name": "ipython",
    "version": 3
   },
   "file_extension": ".py",
   "mimetype": "text/x-python",
   "name": "python",
   "nbconvert_exporter": "python",
   "pygments_lexer": "ipython3",
   "version": "3.6.4"
  }
 },
 "nbformat": 4,
 "nbformat_minor": 2
}
